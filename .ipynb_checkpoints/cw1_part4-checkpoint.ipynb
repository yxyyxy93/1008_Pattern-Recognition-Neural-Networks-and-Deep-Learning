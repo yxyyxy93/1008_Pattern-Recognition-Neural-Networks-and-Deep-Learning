{
 "cells": [
  {
   "cell_type": "markdown",
   "metadata": {},
   "source": [
    "# part 4"
   ]
  },
  {
   "cell_type": "code",
   "execution_count": 1,
   "metadata": {},
   "outputs": [
    {
     "name": "stderr",
     "output_type": "stream",
     "text": [
      "Using TensorFlow backend.\n"
     ]
    }
   ],
   "source": [
    "import pandas as pd\n",
    "import numpy as np\n",
    "import warnings\n",
    "warnings.filterwarnings('ignore')\n",
    "\n",
    "import matplotlib.pyplot as plt\n",
    "from sklearn.model_selection import train_test_split\n",
    "\n",
    "import keras\n",
    "from keras.models import Sequential\n",
    "from keras.layers import Conv2D,MaxPooling2D,Dense,Flatten,Dropout\n",
    "from keras.optimizers import Adam\n",
    "from keras.callbacks import TensorBoard\n",
    "\n",
    "# Import from sklearn.metrics the function confusion matrix \n",
    "from sklearn.metrics import confusion_matrix, classification_report\n",
    "\n",
    "# sing five epochs fits the model to the data\n",
    "num_classes = 10\n",
    "epochs = 5"
   ]
  },
  {
   "cell_type": "code",
   "execution_count": 2,
   "metadata": {},
   "outputs": [],
   "source": [
    "from keras.datasets import mnist\n",
    "\n",
    "(x_train, y_train), (x_test, y_test) = mnist.load_data()\n",
    "# normalize the image data in x_train and x_test (from 0 to 255)\n",
    "# rescale this from 0 to 1\n",
    "\n",
    "x_train = x_train/255\n",
    "\n",
    "x_test= x_test/255\n",
    "# split the training data into validation and training data \n",
    "# for cross validation\n",
    "x_train, x_validate, y_train, y_validate = train_test_split(x_train,y_train, test_size = 0.2, random_state = 19)"
   ]
  },
  {
   "cell_type": "code",
   "execution_count": 3,
   "metadata": {},
   "outputs": [
    {
     "name": "stdout",
     "output_type": "stream",
     "text": [
      "(48000, 28, 28)\n"
     ]
    },
    {
     "data": {
      "image/png": "[encoded data removed]",
      "text/plain": [
       "<Figure size 432x288 with 1 Axes>"
      ]
     },
     "metadata": {
      "needs_background": "light"
     },
     "output_type": "display_data"
    }
   ],
   "source": [
    "# visualise the image to have a look \n",
    "print(x_train.shape)\n",
    "\n",
    "image = x_train[10,:]\n",
    "plt.imshow(image)\n",
    "plt.show()"
   ]
  },
  {
   "cell_type": "code",
   "execution_count": 4,
   "metadata": {},
   "outputs": [
    {
     "name": "stdout",
     "output_type": "stream",
     "text": [
      "(48000, 28, 28)\n",
      "(48000, 28, 28, 1)\n"
     ]
    }
   ],
   "source": [
    "# Define model\n",
    "nrows = 28\n",
    "ncols = 28\n",
    "batch = 512\n",
    "\n",
    "image_shape = (nrows, ncols, 1) # 3d with rows and columns\n",
    "# formate the x_train, x_test and x_validate sets.\n",
    "print (x_train.shape)\n",
    "\n",
    "x_train = x_train.reshape(x_train.shape[0],*image_shape)\n",
    "x_test = x_test.reshape(x_test.shape[0],*image_shape)\n",
    "x_validate = x_validate.reshape(x_validate.shape[0],*image_shape)\n",
    "\n",
    "print (x_train.shape)"
   ]
  },
  {
   "cell_type": "code",
   "execution_count": 5,
   "metadata": {},
   "outputs": [
    {
     "name": "stdout",
     "output_type": "stream",
     "text": [
      "WARNING:tensorflow:From D:\\anaconda\\lib\\site-packages\\keras\\backend\\tensorflow_backend.py:74: The name tf.get_default_graph is deprecated. Please use tf.compat.v1.get_default_graph instead.\n",
      "\n",
      "WARNING:tensorflow:From D:\\anaconda\\lib\\site-packages\\keras\\optimizers.py:790: The name tf.train.Optimizer is deprecated. Please use tf.compat.v1.train.Optimizer instead.\n",
      "\n",
      "WARNING:tensorflow:From D:\\anaconda\\lib\\site-packages\\keras\\backend\\tensorflow_backend.py:517: The name tf.placeholder is deprecated. Please use tf.compat.v1.placeholder instead.\n",
      "\n",
      "WARNING:tensorflow:From D:\\anaconda\\lib\\site-packages\\keras\\backend\\tensorflow_backend.py:4138: The name tf.random_uniform is deprecated. Please use tf.random.uniform instead.\n",
      "\n",
      "WARNING:tensorflow:From D:\\anaconda\\lib\\site-packages\\keras\\backend\\tensorflow_backend.py:3341: The name tf.log is deprecated. Please use tf.math.log instead.\n",
      "\n",
      "WARNING:tensorflow:From D:\\anaconda\\lib\\site-packages\\tensorflow\\python\\ops\\math_grad.py:1250: add_dispatch_support.<locals>.wrapper (from tensorflow.python.ops.array_ops) is deprecated and will be removed in a future version.\n",
      "Instructions for updating:\n",
      "Use tf.where in 2.0, which has the same broadcast rule as np.where\n",
      "WARNING:tensorflow:From D:\\anaconda\\lib\\site-packages\\keras\\backend\\tensorflow_backend.py:986: The name tf.assign_add is deprecated. Please use tf.compat.v1.assign_add instead.\n",
      "\n",
      "Train on 48000 samples, validate on 12000 samples\n",
      "Epoch 1/5\n",
      "48000/48000 [==============================] - 2s 44us/step - loss: 0.4583 - acc: 0.8771 - val_loss: 0.2446 - val_acc: 0.9302\n",
      "Epoch 2/5\n",
      "48000/48000 [==============================] - 2s 33us/step - loss: 0.1966 - acc: 0.9440 - val_loss: 0.1810 - val_acc: 0.9492\n",
      "Epoch 3/5\n",
      "48000/48000 [==============================] - 2s 38us/step - loss: 0.1430 - acc: 0.9604 - val_loss: 0.1461 - val_acc: 0.9583\n",
      "Epoch 4/5\n",
      "48000/48000 [==============================] - 2s 33us/step - loss: 0.1089 - acc: 0.9700 - val_loss: 0.1240 - val_acc: 0.9635\n",
      "Epoch 5/5\n",
      "48000/48000 [==============================] - 1s 30us/step - loss: 0.0871 - acc: 0.9762 - val_loss: 0.1117 - val_acc: 0.9671\n"
     ]
    },
    {
     "data": {
      "text/plain": [
       "<keras.callbacks.History at 0x1bb8f228c18>"
      ]
     },
     "execution_count": 5,
     "metadata": {},
     "output_type": "execute_result"
    }
   ],
   "source": [
    "# Use the Keras Sequential approach to building neural net.\n",
    "# Use the ReLU activation function for the layer\n",
    "# Use 512 (2^9) units for the hidden layer.\n",
    "\n",
    "model_cnn = Sequential([\n",
    "    Flatten(), # flatten out the layers\n",
    "    Dense(512,activation='relu'),\n",
    "    Dense(10,activation = 'softmax')\n",
    "])\n",
    "\n",
    "# complie the mode \n",
    "model_cnn.compile(loss ='sparse_categorical_crossentropy', \n",
    "                  optimizer=Adam(lr=0.001), \n",
    "                  metrics =['accuracy'])\n",
    "\n",
    "model_cnn.fit(\n",
    "    x_train,\n",
    "    y_train,\n",
    "    batch_size=batch,\n",
    "    epochs=epochs,\n",
    "    verbose=1,\n",
    "    validation_data=(x_validate, y_validate),\n",
    ")"
   ]
  },
  {
   "cell_type": "code",
   "execution_count": 7,
   "metadata": {},
   "outputs": [
    {
     "name": "stdout",
     "output_type": "stream",
     "text": [
      "10000/10000 [==============================] - 0s 34us/step\n"
     ]
    },
    {
     "data": {
      "text/plain": [
       "[0.10032198367267847, 0.97]"
      ]
     },
     "execution_count": 7,
     "metadata": {},
     "output_type": "execute_result"
    }
   ],
   "source": [
    "# accuracy\n",
    "model_cnn.evaluate(x_test, y_test)"
   ]
  },
  {
   "cell_type": "code",
   "execution_count": 6,
   "metadata": {},
   "outputs": [
    {
     "name": "stdout",
     "output_type": "stream",
     "text": [
      "[[ 971    0    2    0    0    0    2    2    3    0]\n",
      " [   0 1122    4    0    0    1    3    1    4    0]\n",
      " [   4    1 1000    4    3    0    3    7   10    0]\n",
      " [   0    0    6  988    0    2    0    8    4    2]\n",
      " [   1    0    7    0  951    0    4    2    2   15]\n",
      " [   3    1    0   19    2  846    6    3   11    1]\n",
      " [   9    3    2    1    2    6  930    1    4    0]\n",
      " [   0    9   15    4    0    0    0  991    2    7]\n",
      " [   3    0    5   13    4    1    3    7  936    2]\n",
      " [   3    6    1   12    9    1    1    8    3  965]]\n",
      "Classification Report\n",
      "              precision    recall  f1-score   support\n",
      "\n",
      "           0       0.98      0.99      0.98       980\n",
      "           1       0.98      0.99      0.99      1135\n",
      "           2       0.96      0.97      0.96      1032\n",
      "           3       0.95      0.98      0.96      1010\n",
      "           4       0.98      0.97      0.97       982\n",
      "           5       0.99      0.95      0.97       892\n",
      "           6       0.98      0.97      0.97       958\n",
      "           7       0.96      0.96      0.96      1028\n",
      "           8       0.96      0.96      0.96       974\n",
      "           9       0.97      0.96      0.96      1009\n",
      "\n",
      "    accuracy                           0.97     10000\n",
      "   macro avg       0.97      0.97      0.97     10000\n",
      "weighted avg       0.97      0.97      0.97     10000\n",
      "\n"
     ]
    }
   ],
   "source": [
    "# Print the confusion matrix of the errors on the test data.\n",
    "y_pred = model_cnn.predict(x_test)\n",
    "\n",
    "matrix = confusion_matrix(y_test, y_pred.argmax(axis=1))\n",
    "\n",
    "print(matrix)\n",
    "\n",
    "names= ['0', '1', '2', '3', '4', '5', '6', '7', '8', '9']\n",
    " \n",
    "print('Classification Report')\n",
    "print(classification_report(y_test, y_pred.argmax(axis=1), target_names=names))"
   ]
  },
  {
   "cell_type": "markdown",
   "metadata": {},
   "source": [
    "The data set is called MNIST. Ｔhere are ten classes, showing pictures of headwriting digitals. These items are stored in low-resolution 28X28. images made up of integers between zero and 255, indicating the grey\n",
    "scale of the pixel they are representing. \n",
    "\n",
    "CNN model was chosen for implementation. We wrote a script implementing a one hidden-layer neural network to learn various digitals items. Used the Keras Sequential approach to build neural net. Used the ReLU activation function for the layer. 512 units for the hidden layer were applied. Used 5 epochs to fit the model to the data.\n",
    "\n",
    "The accuracy on my test set is 97%. Also the results on test data are showed by confusion matrix. these names are in order ['0', '1', '2', '3', '4', '5', '6', '7', '8', '9']"
   ]
  },
  {
   "cell_type": "code",
   "execution_count": null,
   "metadata": {},
   "outputs": [],
   "source": []
  }
 ],
 "metadata": {
  "kernelspec": {
   "display_name": "Python 3",
   "language": "python",
   "name": "python3"
  },
  "language_info": {
   "codemirror_mode": {
    "name": "ipython",
    "version": 3
   },
   "file_extension": ".py",
   "mimetype": "text/x-python",
   "name": "python",
   "nbconvert_exporter": "python",
   "pygments_lexer": "ipython3",
   "version": "3.7.3"
  }
 },
 "nbformat": 4,
 "nbformat_minor": 4
}
